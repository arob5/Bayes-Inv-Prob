{
 "cells": [
  {
   "cell_type": "code",
   "execution_count": 1,
   "id": "6afb50cf",
   "metadata": {},
   "outputs": [
    {
     "name": "stdout",
     "output_type": "stream",
     "text": [
      "Intel MKL WARNING: Support of Intel(R) Streaming SIMD Extensions 4.2 (Intel(R) SSE4.2) enabled only processors has been deprecated. Intel oneAPI Math Kernel Library 2025.0 will require Intel(R) Advanced Vector Extensions (Intel(R) AVX) instructions.\n",
      "Intel MKL WARNING: Support of Intel(R) Streaming SIMD Extensions 4.2 (Intel(R) SSE4.2) enabled only processors has been deprecated. Intel oneAPI Math Kernel Library 2025.0 will require Intel(R) Advanced Vector Extensions (Intel(R) AVX) instructions.\n"
     ]
    }
   ],
   "source": [
    "# Add path to param.py. Current working directory assumed to be bip/bip/notebooks\n",
    "\n",
    "import sys\n",
    "sys.path.append(\"./../\")\n",
    "from param import *"
   ]
  },
  {
   "cell_type": "markdown",
   "id": "723907e2-2aed-4f8b-b264-dc42203b93f0",
   "metadata": {},
   "source": [
    "# ParamGroup Class\n",
    "Let's suppose we are interested in the parameters $\\theta \\in [0,\\infty)$ and $\\Sigma \\in \\mathbb{R}^{2 \\times 2}$. The former is a scalar constrained to be nonnegative and the latter is a positive semidefinite (PSD) matrix. We will create a `ParamGroup` object that encodes the parameter set $\\{\\theta, \\Sigma\\}$."
   ]
  },
  {
   "cell_type": "code",
   "execution_count": 2,
   "id": "7ad84e53-caa7-4242-b680-dd4d937680ff",
   "metadata": {},
   "outputs": [],
   "source": [
    "# Set up parameter information for each parameter.\n",
    "param_info = {\"theta\": {\"type\":\"float\", \"size\":(), \"constraint\":(0, np.Inf)},\n",
    "              \"Sigma\": {\"type\":\"float\", \"size\":(2,2), \"constraint\": \"psd\"}}"
   ]
  },
  {
   "cell_type": "code",
   "execution_count": 3,
   "id": "4e311db3-57fa-418e-b156-39544ab7ecef",
   "metadata": {},
   "outputs": [],
   "source": [
    "# Instantiate ParamGroup object.\n",
    "param = ParamGroup(param_info)"
   ]
  },
  {
   "cell_type": "code",
   "execution_count": 4,
   "id": "c79ff3df-169c-4ab9-bd7b-868bd41b88bd",
   "metadata": {},
   "outputs": [
    {
     "data": {
      "text/plain": [
       "['Sigma', 'theta']"
      ]
     },
     "execution_count": 4,
     "metadata": {},
     "output_type": "execute_result"
    }
   ],
   "source": [
    "# Parameter names (orders alphabetically)\n",
    "param.get_param_names()"
   ]
  },
  {
   "cell_type": "code",
   "execution_count": 5,
   "id": "8057f830-296c-4f26-bc53-b0c175022432",
   "metadata": {},
   "outputs": [
    {
     "name": "stdout",
     "output_type": "stream",
     "text": [
      "['Sigma', 'new_param_name', 'theta']\n",
      "['Sigma', 'theta']\n"
     ]
    }
   ],
   "source": [
    "# Add and remove a new parameter.\n",
    "new_param_info = {\"type\":\"int\", \"size\":(5,), \"constraint\": None}\n",
    "\n",
    "# Add parameter.\n",
    "param.add_param(\"new_param_name\", new_param_info)\n",
    "print(param.get_param_names())\n",
    "\n",
    "# Remove parameter.\n",
    "param.remove_param(\"new_param_name\")\n",
    "print(param.get_param_names())"
   ]
  },
  {
   "cell_type": "markdown",
   "id": "4b5d9e53-a53d-43e1-9454-2992afcc0ab1",
   "metadata": {},
   "source": [
    "# ParamValue Class\n",
    "The `ParamValue` class encodes the notion of a specific value a parameter can assume. For the example above, an example of a valid value might be \n",
    "$$\n",
    "\\left\\{1.0, \\begin{bmatrix} 1.0 & 0.0 \\\\ 0.0 & 1.0 \\end{bmatrix} \\right\\}.\n",
    "$$\n",
    "\n",
    "The core of the class is a dictionary with keys corresponding to parameter names and values to the associated parameter values. The class ensures that a given value is of the correct type and size, and satisfies all of the constraints as specified in a `ParamGroup` object. It also features a `to_array` method that converts the parameter value dictionary to an array, with the elements sorted in a canonical order as determined by `ParamGroup`.\n"
   ]
  },
  {
   "cell_type": "code",
   "execution_count": 9,
   "id": "9b5bffe3-7341-498b-b746-6f221fb295d4",
   "metadata": {},
   "outputs": [
    {
     "name": "stdout",
     "output_type": "stream",
     "text": [
      "None\n"
     ]
    }
   ],
   "source": [
    "# Instantiate empty ParamValue object.\n",
    "param_val = ParamValue(param)\n",
    "print(param_val.value)"
   ]
  },
  {
   "cell_type": "code",
   "execution_count": 11,
   "id": "9409386c-94f4-4a18-bd95-2ef960084fcc",
   "metadata": {},
   "outputs": [
    {
     "name": "stdout",
     "output_type": "stream",
     "text": [
      "{'theta': 1.0, 'Sigma': array([[1, 0],\n",
      "       [0, 1]])}\n"
     ]
    }
   ],
   "source": [
    "# Set a new value.\n",
    "val = {\"theta\": 1.0, \"Sigma\": np.diag([1,1])}\n",
    "param_val.value = val\n",
    "print(param_val.value)"
   ]
  },
  {
   "cell_type": "code",
   "execution_count": 12,
   "id": "9d2a6aa6-52fd-4aac-9b4c-dc325e31c5f3",
   "metadata": {},
   "outputs": [
    {
     "ename": "AttributeError",
     "evalue": "'ParamValue' object has no attribute '_value'",
     "output_type": "error",
     "traceback": [
      "\u001b[0;31m---------------------------------------------------------------------------\u001b[0m",
      "\u001b[0;31mAttributeError\u001b[0m                            Traceback (most recent call last)",
      "Cell \u001b[0;32mIn[12], line 3\u001b[0m\n\u001b[1;32m      1\u001b[0m \u001b[38;5;66;03m# Delete value.\u001b[39;00m\n\u001b[1;32m      2\u001b[0m \u001b[38;5;28;01mdel\u001b[39;00m param_val\u001b[38;5;241m.\u001b[39mvalue\n\u001b[0;32m----> 3\u001b[0m \u001b[38;5;28mprint\u001b[39m(param_val\u001b[38;5;241m.\u001b[39mvalue)\n",
      "File \u001b[0;32m~/Desktop/git-repos/bip/bip/notebooks/./../param.py:122\u001b[0m, in \u001b[0;36mParamValue.value\u001b[0;34m(self)\u001b[0m\n\u001b[1;32m    120\u001b[0m \u001b[38;5;129m@property\u001b[39m\n\u001b[1;32m    121\u001b[0m \u001b[38;5;28;01mdef\u001b[39;00m \u001b[38;5;21mvalue\u001b[39m(\u001b[38;5;28mself\u001b[39m) \u001b[38;5;241m-\u001b[39m\u001b[38;5;241m>\u001b[39m Any :\n\u001b[0;32m--> 122\u001b[0m     \u001b[38;5;28;01mreturn\u001b[39;00m \u001b[38;5;28mself\u001b[39m\u001b[38;5;241m.\u001b[39m_value\n",
      "\u001b[0;31mAttributeError\u001b[0m: 'ParamValue' object has no attribute '_value'"
     ]
    }
   ],
   "source": [
    "# Set value upon instantiation.\n",
    "param_val = ParamValue(param)"
   ]
  }
 ],
 "metadata": {
  "kernelspec": {
   "display_name": "Python 3 (ipykernel)",
   "language": "python",
   "name": "python3"
  },
  "language_info": {
   "codemirror_mode": {
    "name": "ipython",
    "version": 3
   },
   "file_extension": ".py",
   "mimetype": "text/x-python",
   "name": "python",
   "nbconvert_exporter": "python",
   "pygments_lexer": "ipython3",
   "version": "3.11.11"
  }
 },
 "nbformat": 4,
 "nbformat_minor": 5
}
